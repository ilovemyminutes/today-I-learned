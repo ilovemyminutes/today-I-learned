{
 "metadata": {
  "language_info": {
   "codemirror_mode": {
    "name": "ipython",
    "version": 3
   },
   "file_extension": ".py",
   "mimetype": "text/x-python",
   "name": "python",
   "nbconvert_exporter": "python",
   "pygments_lexer": "ipython3",
   "version": "3.7.10-final"
  },
  "orig_nbformat": 2,
  "kernelspec": {
   "name": "python3",
   "display_name": "Python 3.7.10 64-bit ('py37': conda)",
   "metadata": {
    "interpreter": {
     "hash": "5576523d18be1860e0b8333f9eb004ad410539c024854cfeb3d0201b15cac484"
    }
   }
  }
 },
 "nbformat": 4,
 "nbformat_minor": 2,
 "cells": [
  {
   "cell_type": "code",
   "execution_count": 26,
   "metadata": {},
   "outputs": [
    {
     "output_type": "stream",
     "name": "stdout",
     "text": [
      "Encoded: 1.5 bytes needed\nCompression Rate: 4.0\nDecoded: BCDADA\n"
     ]
    }
   ],
   "source": [
    "# encoding\n",
    "string = 'BCDADA'\n",
    "dic = {'A': 0, 'B': 1, 'C': 2, 'D': 3}\n",
    "encoded = [dic[item] for item in [char for char in string]]\n",
    "encoded = ''.join(map(str, encoded))\n",
    "print(f'Encoded: {len(encoded) / 4} bytes needed')\n",
    "print(f'Compression Rate: {len(string) / (len(encoded)/4)}')\n",
    "\n",
    "# decoding\n",
    "dic_reversed = dict(map(reversed, dic.items()))\n",
    "a = [item for item in list(encoded)]\n",
    "decoded = [dic_reversed[int(num)] for num in [item for item in list(encoded)]]\n",
    "decoded = ''.join(map(str, decoded))\n",
    "print(f'Decoded: {decoded}')"
   ]
  },
  {
   "cell_type": "code",
   "execution_count": 2,
   "metadata": {},
   "outputs": [],
   "source": [
    "import os\n",
    "import pandas as pd"
   ]
  },
  {
   "cell_type": "code",
   "execution_count": 6,
   "metadata": {},
   "outputs": [],
   "source": [
    "pred = pd.read_csv('../../../Desktop/prediction.csv')"
   ]
  },
  {
   "cell_type": "code",
   "execution_count": 15,
   "metadata": {},
   "outputs": [],
   "source": [
    "pred['temp'] = pred['filename'].apply(lambda x: f\"{x.split('.')[0]:0>5s}\")"
   ]
  },
  {
   "cell_type": "code",
   "execution_count": 19,
   "metadata": {},
   "outputs": [],
   "source": [
    "pred.sort_values(by='temp').drop('temp', axis=1).to_csv('prediction.csv', index=False)"
   ]
  },
  {
   "cell_type": "code",
   "execution_count": null,
   "metadata": {},
   "outputs": [],
   "source": [
    "pd.read_csv('../../../')"
   ]
  },
  {
   "cell_type": "code",
   "execution_count": 30,
   "metadata": {},
   "outputs": [
    {
     "output_type": "stream",
     "name": "stderr",
     "text": [
      "FIRST:   0%|          | 0/10 [00:00<?, ?it/s]\n",
      "  0%|          | 0/10 [00:00<?, ?it/s]\u001b[A\n",
      "                                      \u001b[A\n",
      "  0%|          | 0/10 [00:00<?, ?it/s]\u001b[A\n",
      "                                      \u001b[A\n",
      "  0%|          | 0/10 [00:00<?, ?it/s]\u001b[A\n",
      "                                      \u001b[A\n",
      "  0%|          | 0/10 [00:00<?, ?it/s]\u001b[A\n",
      "                                      \u001b[A\n",
      "  0%|          | 0/10 [00:00<?, ?it/s]\u001b[A\n",
      "                                      \u001b[A\n",
      "  0%|          | 0/10 [00:00<?, ?it/s]\u001b[A\n",
      "FIRST:  60%|██████    | 6/10 [00:00<00:00, 54.38it/s]\n",
      "  0%|          | 0/10 [00:00<?, ?it/s]\u001b[A\n",
      "                                      \u001b[A\n",
      "  0%|          | 0/10 [00:00<?, ?it/s]\u001b[A\n",
      "                                      \u001b[A\n",
      "  0%|          | 0/10 [00:00<?, ?it/s]\u001b[A\n",
      "                                      \u001b[A\n",
      "  0%|          | 0/10 [00:00<?, ?it/s]\u001b[A\n",
      "FIRST: 100%|██████████| 10/10 [00:00<00:00, 58.25it/s]\n"
     ]
    }
   ],
   "source": [
    "from tqdm import tqdm, trange\n",
    "import time\n",
    "acc = 0\n",
    "# t = trange(10, desc='BAR DESC', leave=True)\n",
    "for i in trange(10, desc='FIRST', leave=True):\n",
    "    # t.set_description(f'BAR DESC {i}')\n",
    "    # t.refresh()\n",
    "    time.sleep(0.01)\n",
    "    for j in trange(10, leave=False):\n",
    "        pass"
   ]
  },
  {
   "cell_type": "code",
   "execution_count": 28,
   "metadata": {},
   "outputs": [
    {
     "output_type": "stream",
     "name": "stdout",
     "text": [
      "123030 55\nBCDADA 55\n"
     ]
    }
   ],
   "source": [
    "print(encoded, sys.getsizeof(encoded))\n",
    "print(string, sys.getsizeof(string))"
   ]
  },
  {
   "cell_type": "code",
   "execution_count": 15,
   "metadata": {},
   "outputs": [
    {
     "output_type": "stream",
     "name": "stdout",
     "text": [
      "Encoded: 111011111011110011101111011110111011110 | 4.875 bytes needed\nCompression Rate: 0.9230769230769231\nDecoded: DFEADEEDE\n"
     ]
    }
   ],
   "source": [
    "# encoding\n",
    "string = 'DFEADEEDE'\n",
    "dic = {'A': 0, 'B': 10, 'C': 110, 'D': 1110, 'E': 11110, 'F': 111110}\n",
    "encoded = [dic[item] for item in [char for char in string]]\n",
    "encoded = ''.join(map(str, encoded))\n",
    "print(f'Encoded: {encoded} | {len(encoded) / 8} bytes needed')\n",
    "print(f'Compression Rate: {len(string) / (len(encoded)/4)}')\n",
    "\n",
    "decoded = ''\n",
    "temp = ''\n",
    "inv_code = {v: k for k, v in dic.items()}\n",
    "\n",
    "for c in encoded:\n",
    "    temp += str(c)\n",
    "    if int(temp) in inv_code.keys():\n",
    "        decoded += inv_code[int(temp)]\n",
    "        temp = ''\n",
    "    else:\n",
    "        pass\n",
    "print(f'Decoded: {decoded}')"
   ]
  },
  {
   "cell_type": "code",
   "execution_count": 16,
   "metadata": {},
   "outputs": [],
   "source": [
    "import sys"
   ]
  },
  {
   "cell_type": "code",
   "execution_count": 25,
   "metadata": {},
   "outputs": [
    {
     "output_type": "stream",
     "name": "stdout",
     "text": [
      "88\n58\n"
     ]
    }
   ],
   "source": [
    "print(sys.getsizeof(encoded))\n",
    "print(sys.getsizeof(string))\n"
   ]
  }
 ]
}