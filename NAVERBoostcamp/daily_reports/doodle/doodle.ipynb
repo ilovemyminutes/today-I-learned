{
 "cells": [
  {
   "cell_type": "code",
   "execution_count": 1,
   "metadata": {},
   "outputs": [],
   "source": [
    "import random"
   ]
  },
  {
   "cell_type": "code",
   "execution_count": 2,
   "metadata": {},
   "outputs": [
    {
     "data": {
      "text/plain": [
       "31"
      ]
     },
     "execution_count": 2,
     "metadata": {},
     "output_type": "execute_result"
    }
   ],
   "source": [
    "random.randint(1, 100)"
   ]
  },
  {
   "cell_type": "code",
   "execution_count": 41,
   "metadata": {},
   "outputs": [],
   "source": [
    "class Employee(Person):\n",
    "    def __init__(self, parent1, parent2, child1, child2):\n",
    "        super().__init__(parent1, parent2)\n",
    "        ...\n",
    "    def foo(self):\n",
    "        super().parent_method()"
   ]
  },
  {
   "cell_type": "code",
   "execution_count": 1,
   "metadata": {},
   "outputs": [],
   "source": [
    "line_counter = 0\n",
    "data_header = list()\n",
    "customer_list = list()\n",
    "\n",
    "with open('customers.csv') as customer_data:\n",
    "\n",
    "    while True:\n",
    "        data = customer_data.readline()\n",
    "        if not data: break\n",
    "        if line_counter == 0:\n",
    "            data_header = data.split(',')\n",
    "        else:\n",
    "            customer_list.append(data.split(','))\n",
    "        line_counter += 1"
   ]
  },
  {
   "cell_type": "code",
   "execution_count": 3,
   "metadata": {},
   "outputs": [
    {
     "output_type": "stream",
     "name": "stdout",
     "text": [
      "['103', '\"Atelier graphique\"', 'Schmitt', '\"Carine \"', '40.32.2555', '\"54', ' rue Royale\"', 'NULL', 'Nantes', 'NULL', '44000', 'France', '1370', '21000\\n']\n['112', '\"Signal Gift Stores\"', 'King', 'Jean', '7025551838', '\"8489 Strong St.\"', 'NULL', '\"Las Vegas\"', 'NV', '83030', 'USA', '1166', '71800\\n']\n['114', '\"Australian Collectors', ' Co.\"', 'Ferguson', 'Peter', '\"03 9520 4555\"', '\"636 St Kilda Road\"', '\"Level 3\"', 'Melbourne', 'Victoria', '3004', 'Australia', '1611', '117300\\n']\n['119', '\"La Rochelle Gifts\"', 'Labrune', '\"Janine \"', '40.67.8555', '\"67', ' rue des Cinquante Otages\"', 'NULL', 'Nantes', 'NULL', '44000', 'France', '1370', '118200\\n']\n['121', '\"Baane Mini Imports\"', 'Bergulfsen', '\"Jonas \"', '\"07-98 9555\"', '\"Erling Skakkes gate 78\"', 'NULL', 'Stavern', 'NULL', '4110', 'Norway', '1504', '81700\\n']\n['124', '\"Mini Gifts Distributors Ltd.\"', 'Nelson', 'Susan', '4155551450', '\"5677 Strong St.\"', 'NULL', '\"San Rafael\"', 'CA', '97562', 'USA', '1165', '210500\\n']\n['125', '\"Havel & Zbyszek Co\"', 'Piestrzeniewicz', '\"Zbyszek \"', '\"(26) 642-7555\"', '\"ul. Filtrowa 68\"', 'NULL', 'Warszawa', 'NULL', '01-012', 'Poland', 'NULL', '0\\n']\n['128', '\"Blauer See Auto', ' Co.\"', 'Keitel', 'Roland', '\"+49 69 66 90 2555\"', '\"Lyonerstr. 34\"', 'NULL', 'Frankfurt', 'NULL', '60528', 'Germany', '1504', '59700\\n']\n['129', '\"Mini Wheels Co.\"', 'Murphy', 'Julie', '6505555787', '\"5557 North Pendale Street\"', 'NULL', '\"San Francisco\"', 'CA', '94217', 'USA', '1165', '64600\\n']\n['131', '\"Land of Toys Inc.\"', 'Lee', 'Kwai', '2125557818', '\"897 Long Airport Avenue\"', 'NULL', 'NYC', 'NY', '10022', 'USA', '1323', '114900\\n']\n"
     ]
    }
   ],
   "source": [
    "for i in range(10):\n",
    "    print(customer_list[i])"
   ]
  }
 ],
 "metadata": {
  "kernelspec": {
   "display_name": "Python 3",
   "language": "python",
   "name": "python3"
  },
  "language_info": {
   "codemirror_mode": {
    "name": "ipython",
    "version": 3
   },
   "file_extension": ".py",
   "mimetype": "text/x-python",
   "name": "python",
   "nbconvert_exporter": "python",
   "pygments_lexer": "ipython3",
   "version": "3.8.5-final"
  }
 },
 "nbformat": 4,
 "nbformat_minor": 4
}