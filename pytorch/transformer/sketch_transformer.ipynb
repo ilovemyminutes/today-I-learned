{
 "metadata": {
  "language_info": {
   "codemirror_mode": {
    "name": "ipython",
    "version": 3
   },
   "file_extension": ".py",
   "mimetype": "text/x-python",
   "name": "python",
   "nbconvert_exporter": "python",
   "pygments_lexer": "ipython3",
   "version": "3.6.9-final"
  },
  "orig_nbformat": 2,
  "kernelspec": {
   "name": "python3",
   "display_name": "Python 3.6.9 64-bit ('py36': conda)",
   "metadata": {
    "interpreter": {
     "hash": "e4583e3e051816b4ac89cf1b6baba6f81196736b754b6f0341f1424c68064e5b"
    }
   }
  }
 },
 "nbformat": 4,
 "nbformat_minor": 2,
 "cells": [
  {
   "cell_type": "code",
   "execution_count": 6,
   "metadata": {},
   "outputs": [],
   "source": [
    "from tqdm import tqdm\n",
    "\n",
    "import torch\n",
    "from torch import nn\n",
    "from torch.nn import functional as F"
   ]
  },
  {
   "cell_type": "code",
   "execution_count": 15,
   "metadata": {},
   "outputs": [
    {
     "output_type": "stream",
     "name": "stdout",
     "text": [
      "torch.Size([5, 10])\n"
     ]
    }
   ],
   "source": [
    "pad_id = 0\n",
    "vocab_size = 100\n",
    "max_len = 10\n",
    "hidden_dim = 6\n",
    "\n",
    "def padding(data: list, pad_id: int=0) -> (list, int):\n",
    "    max_len = len(max(data, key=len))\n",
    "    output = [sample + [pad_id]*(max_len-len(sample)) for sample in tqdm(data)]\n",
    "    return output, max_len\n",
    "\n",
    "data = [\n",
    "     [62, 13, 47, 39, 78, 33, 56, 13, 39, 29],\n",
    "     [60, 96, 51, 32, 90, 44, 86, 71, 36, 18],\n",
    "     [35, 45, 48, 65, 91, 99, 92, 10, 31, 21],\n",
    "     [75, 51, 45, 48, 65, 91, 99, 11, 13, 28],\n",
    "     [66, 88, 98, 47, 48, 65, 17, 13, 67, 13],\n",
    "     ]\n",
    "\n",
    "# data, max_len = padding(data)\n",
    "data = torch.LongTensor(data)\n",
    "print(data.shape)"
   ]
  },
  {
   "cell_type": "code",
   "execution_count": 16,
   "metadata": {},
   "outputs": [
    {
     "output_type": "stream",
     "name": "stdout",
     "text": [
      "Initialized\n"
     ]
    }
   ],
   "source": [
    "embedding = nn.Embedding(num_embeddings=vocab_size, embedding_dim=hidden_dim)\n",
    "\n",
    "w_query = nn.Linear(in_features=hidden_dim, out_features=hidden_dim)\n",
    "w_key = nn.Linear(in_features=hidden_dim, out_features=hidden_dim)\n",
    "w_value = nn.Linear(in_features=hidden_dim, out_features=hidden_dim)\n",
    "\n",
    "embedding.weight.data.uniform_(-1, 1)\n",
    "w_query.weight.data.uniform_(-1, 1)\n",
    "w_key.weight.data.uniform_(-1, 1)\n",
    "w_value.weight.data.uniform_(-1, 1)\n",
    "print('Initialized')"
   ]
  },
  {
   "cell_type": "code",
   "execution_count": 19,
   "metadata": {},
   "outputs": [
    {
     "output_type": "execute_result",
     "data": {
      "text/plain": [
       "torch.Size([5, 10, 6])"
      ]
     },
     "metadata": {},
     "execution_count": 19
    }
   ],
   "source": [
    "embedding(data).shape # (batgch_size, seq_length, max_length, embedding_dim)"
   ]
  },
  {
   "cell_type": "code",
   "execution_count": 20,
   "metadata": {},
   "outputs": [
    {
     "output_type": "execute_result",
     "data": {
      "text/plain": [
       "tensor([[[0., 0., 0.],\n",
       "         [0., 0., 0.]]])"
      ]
     },
     "metadata": {},
     "execution_count": 20
    }
   ],
   "source": [
    "torch.zeros(1,2,3)"
   ]
  },
  {
   "cell_type": "code",
   "execution_count": 18,
   "metadata": {},
   "outputs": [
    {
     "output_type": "error",
     "ename": "NameError",
     "evalue": "name 'output_embedding' is not defined",
     "traceback": [
      "\u001b[1;31m---------------------------------------------------------------------------\u001b[0m",
      "\u001b[1;31mNameError\u001b[0m                                 Traceback (most recent call last)",
      "\u001b[1;32m<ipython-input-18-4b0790ef5a11>\u001b[0m in \u001b[0;36m<module>\u001b[1;34m\u001b[0m\n\u001b[1;32m----> 1\u001b[1;33m \u001b[0mw_query\u001b[0m\u001b[1;33m(\u001b[0m\u001b[0moutput_embedding\u001b[0m\u001b[1;33m)\u001b[0m\u001b[1;33m.\u001b[0m\u001b[0mshape\u001b[0m \u001b[1;31m#  (batch_size, seq_len, max_len, hidden_dim)\u001b[0m\u001b[1;33m\u001b[0m\u001b[1;33m\u001b[0m\u001b[0m\n\u001b[0m",
      "\u001b[1;31mNameError\u001b[0m: name 'output_embedding' is not defined"
     ]
    }
   ],
   "source": [
    "w_query(output_embedding).shape #  (batch_size, seq_len, max_len, hidden_dim)"
   ]
  },
  {
   "cell_type": "code",
   "execution_count": 25,
   "metadata": {},
   "outputs": [
    {
     "output_type": "execute_result",
     "data": {
      "text/plain": [
       "(tensor([[[[1., 1., 1.],\n",
       "           [1., 1., 1.]],\n",
       " \n",
       "          [[1., 1., 1.],\n",
       "           [1., 1., 1.]],\n",
       " \n",
       "          [[1., 1., 1.],\n",
       "           [1., 1., 1.]],\n",
       " \n",
       "          [[1., 1., 1.],\n",
       "           [1., 1., 1.]]]]),\n",
       " tensor([[[[1., 1., 1.],\n",
       "           [1., 1., 1.]],\n",
       " \n",
       "          [[1., 1., 1.],\n",
       "           [1., 1., 1.]],\n",
       " \n",
       "          [[1., 1., 1.],\n",
       "           [1., 1., 1.]],\n",
       " \n",
       "          [[1., 1., 1.],\n",
       "           [1., 1., 1.]]]]))"
      ]
     },
     "metadata": {},
     "execution_count": 25
    }
   ],
   "source": [
    "batch_size = 1\n",
    "max_len = 4\n",
    "num_heads = 2\n",
    "d_k = 3\n",
    "q = torch.ones(batch_size, max_len, num_heads, d_k)\n",
    "k = torch.ones(batch_size, max_len, num_heads, d_k)\n",
    "q, k"
   ]
  },
  {
   "cell_type": "code",
   "execution_count": 27,
   "metadata": {},
   "outputs": [
    {
     "output_type": "execute_result",
     "data": {
      "text/plain": [
       "tensor([[[[1., 1.],\n",
       "          [1., 1.],\n",
       "          [1., 1.]],\n",
       "\n",
       "         [[1., 1.],\n",
       "          [1., 1.],\n",
       "          [1., 1.]],\n",
       "\n",
       "         [[1., 1.],\n",
       "          [1., 1.],\n",
       "          [1., 1.]],\n",
       "\n",
       "         [[1., 1.],\n",
       "          [1., 1.],\n",
       "          [1., 1.]]]])"
      ]
     },
     "metadata": {},
     "execution_count": 27
    }
   ],
   "source": [
    "k.transpose(-2, -1)"
   ]
  },
  {
   "cell_type": "code",
   "execution_count": 63,
   "metadata": {},
   "outputs": [],
   "source": [
    "temp = torch.LongTensor(\n",
    "        [\n",
    "        [[[  1,   1]],\n",
    "        [[  1,   1]]],\n",
    "        [[[ 10,  10]],\n",
    "        [[  1,   1]]],\n",
    "        [[[100, 100]],\n",
    "        [[  1,   1]]]\n",
    "        ])\n",
    "\n",
    "temp2 = torch.LongTensor(\n",
    "    [[[1],\n",
    "         [1]],\n",
    "\n",
    "        [[2],\n",
    "         [2]],\n",
    "\n",
    "        [[3],\n",
    "         [3]],\n",
    "\n",
    "        [[4],\n",
    "         [4]]])"
   ]
  },
  {
   "cell_type": "code",
   "execution_count": 64,
   "metadata": {},
   "outputs": [
    {
     "output_type": "execute_result",
     "data": {
      "text/plain": [
       "(torch.Size([3, 1, 1, 2]), torch.Size([4, 2, 1]))"
      ]
     },
     "metadata": {},
     "execution_count": 64
    }
   ],
   "source": [
    "temp.size(), temp2.size()"
   ]
  },
  {
   "cell_type": "code",
   "execution_count": 71,
   "metadata": {},
   "outputs": [],
   "source": [
    "a1 = [[1, 2], [3, 4], [5,6]]\n",
    "a2 = [[10, 20], [30, 40], [50,60]]\n",
    "\n",
    "temp = torch.LongTensor([a1, a2])"
   ]
  },
  {
   "cell_type": "code",
   "execution_count": 76,
   "metadata": {},
   "outputs": [
    {
     "output_type": "execute_result",
     "data": {
      "text/plain": [
       "tensor([[[ 1,  3,  5],\n",
       "         [ 2,  4,  6]],\n",
       "\n",
       "        [[10, 30, 50],\n",
       "         [20, 40, 60]]])"
      ]
     },
     "metadata": {},
     "execution_count": 76
    }
   ],
   "source": [
    "temp.transpose(1,2)"
   ]
  }
 ]
}