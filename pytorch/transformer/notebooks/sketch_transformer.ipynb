{
 "metadata": {
  "language_info": {
   "codemirror_mode": {
    "name": "ipython",
    "version": 3
   },
   "file_extension": ".py",
   "mimetype": "text/x-python",
   "name": "python",
   "nbconvert_exporter": "python",
   "pygments_lexer": "ipython3",
   "version": "3.6.9-final"
  },
  "orig_nbformat": 2,
  "kernelspec": {
   "name": "python3",
   "display_name": "Python 3.6.9 64-bit ('py36': conda)",
   "metadata": {
    "interpreter": {
     "hash": "e4583e3e051816b4ac89cf1b6baba6f81196736b754b6f0341f1424c68064e5b"
    }
   }
  }
 },
 "nbformat": 4,
 "nbformat_minor": 2,
 "cells": [
  {
   "cell_type": "code",
   "execution_count": 1,
   "metadata": {},
   "outputs": [
    {
     "output_type": "error",
     "ename": "ModuleNotFoundError",
     "evalue": "No module named 'transformer.transformer'; 'transformer' is not a package",
     "traceback": [
      "\u001b[1;31m---------------------------------------------------------------------------\u001b[0m",
      "\u001b[1;31mModuleNotFoundError\u001b[0m                       Traceback (most recent call last)",
      "\u001b[1;32m<ipython-input-1-db67db2e0eb8>\u001b[0m in \u001b[0;36m<module>\u001b[1;34m\u001b[0m\n\u001b[0;32m      7\u001b[0m \u001b[1;32mfrom\u001b[0m \u001b[0mtorch\u001b[0m\u001b[1;33m.\u001b[0m\u001b[0mnn\u001b[0m \u001b[1;32mimport\u001b[0m \u001b[0mfunctional\u001b[0m \u001b[1;32mas\u001b[0m \u001b[0mF\u001b[0m\u001b[1;33m\u001b[0m\u001b[1;33m\u001b[0m\u001b[0m\n\u001b[0;32m      8\u001b[0m \u001b[1;33m\u001b[0m\u001b[0m\n\u001b[1;32m----> 9\u001b[1;33m \u001b[1;32mfrom\u001b[0m \u001b[0mtransformer\u001b[0m\u001b[1;33m.\u001b[0m\u001b[0mtransformer\u001b[0m \u001b[1;32mimport\u001b[0m \u001b[0mMultiHeadAttention\u001b[0m\u001b[1;33m\u001b[0m\u001b[1;33m\u001b[0m\u001b[0m\n\u001b[0m",
      "\u001b[1;31mModuleNotFoundError\u001b[0m: No module named 'transformer.transformer'; 'transformer' is not a package"
     ]
    }
   ],
   "source": [
    "import sys\n",
    "from tqdm import tqdm\n",
    "sys.path.insert(0, '../')\n",
    "\n",
    "import torch\n",
    "from torch import nn\n",
    "from torch.nn import functional as F\n",
    "\n",
    "from transformer.transformer import MultiHeadAttention"
   ]
  },
  {
   "cell_type": "code",
   "execution_count": 17,
   "metadata": {},
   "outputs": [
    {
     "output_type": "stream",
     "name": "stdout",
     "text": [
      "torch.Size([5, 10])\n"
     ]
    }
   ],
   "source": [
    "pad_id = 0\n",
    "vocab_size = 100\n",
    "max_len = 10\n",
    "hidden_dim = 6\n",
    "\n",
    "def padding(data: list, pad_id: int=0) -> (list, int):\n",
    "    max_len = len(max(data, key=len))\n",
    "    output = [sample + [pad_id]*(max_len-len(sample)) for sample in tqdm(data)]\n",
    "    return output, max_len\n",
    "\n",
    "data = [\n",
    "     [62, 13, 47, 39, 78, 33, 56, 13, 39, 29],\n",
    "     [60, 96, 51, 32, 90, 44, 86, 71, 36, 18],\n",
    "     [35, 45, 48, 65, 91, 99, 92, 10, 31, 21],\n",
    "     [75, 51, 45, 48, 65, 91, 99, 11, 13, 28],\n",
    "     [66, 88, 98, 47, 48, 65, 17, 13, 67, 99],\n",
    "     ]\n",
    "\n",
    "# data, max_len = padding(data)\n",
    "data = torch.LongTensor(data)\n",
    "print(data.shape)"
   ]
  },
  {
   "cell_type": "code",
   "execution_count": 18,
   "metadata": {},
   "outputs": [
    {
     "output_type": "stream",
     "name": "stdout",
     "text": [
      "Initialized\n"
     ]
    }
   ],
   "source": [
    "embedding = nn.Embedding(num_embeddings=vocab_size, embedding_dim=hidden_dim)\n",
    "\n",
    "# w_query = nn.Linear(in_features=hidden_dim, out_features=hidden_dim)\n",
    "# w_key = nn.Linear(in_features=hidden_dim, out_features=hidden_dim)\n",
    "# w_value = nn.Linear(in_features=hidden_dim, out_features=hidden_dim)\n",
    "\n",
    "# embedding.weight.data.uniform_(-1, 1)\n",
    "# w_query.weight.data.uniform_(-1, 1)\n",
    "# w_key.weight.data.uniform_(-1, 1)\n",
    "# w_value.weight.data.uniform_(-1, 1)\n",
    "print('Initialized')"
   ]
  },
  {
   "cell_type": "code",
   "execution_count": 19,
   "metadata": {},
   "outputs": [
    {
     "output_type": "execute_result",
     "data": {
      "text/plain": [
       "tensor([[[ 0.3500, -0.7940, -0.2843, -0.7397,  1.4171, -0.4520],\n",
       "         [-0.6861, -2.8138,  0.3442,  0.2728, -0.6883,  1.1423],\n",
       "         [ 0.3644, -1.2988, -0.0406,  0.6302, -0.0397,  1.1577],\n",
       "         [ 0.7950, -1.6610,  0.0899, -0.9438,  1.3486,  0.5950],\n",
       "         [-0.5862, -0.1035,  0.7650, -1.4547, -0.9456, -1.1637],\n",
       "         [ 1.5435, -0.7741, -0.9196, -1.0213,  0.6943,  0.4392],\n",
       "         [-0.4319,  0.2256, -1.2074,  1.0227, -1.4463, -0.9066],\n",
       "         [-0.6861, -2.8138,  0.3442,  0.2728, -0.6883,  1.1423],\n",
       "         [ 0.7950, -1.6610,  0.0899, -0.9438,  1.3486,  0.5950],\n",
       "         [ 0.3734,  0.5410, -1.4976, -0.3848,  1.5991,  1.7465]],\n",
       "\n",
       "        [[-0.3957,  0.6645, -0.1004, -0.6024, -1.7313,  0.5948],\n",
       "         [ 0.0749,  0.0932, -1.1894, -1.6060, -0.1776,  1.7808],\n",
       "         [ 0.2848, -1.0590,  0.5895,  0.5058,  0.9810, -0.7540],\n",
       "         [ 0.3156,  0.8662, -0.5489, -0.5073,  3.8343, -0.6247],\n",
       "         [ 0.5189,  0.6964, -0.5791, -0.0510, -0.3047,  0.4854],\n",
       "         [ 0.7041, -1.3516, -1.9729,  0.3428, -1.7939, -0.9010],\n",
       "         [ 0.2936,  1.9251,  0.3053, -1.7144, -1.2606, -0.0602],\n",
       "         [-0.6797,  0.6058,  0.8138,  0.4244,  1.1094, -1.8179],\n",
       "         [-1.1986, -0.0579, -0.9310, -0.2573,  1.2813, -0.0789],\n",
       "         [ 0.6478,  0.8240,  0.3987, -0.0224,  0.7293,  0.8236]],\n",
       "\n",
       "        [[ 0.2441, -1.0424,  0.9214,  0.0193,  1.7646,  1.4717],\n",
       "         [ 0.8908,  0.0218, -0.1906, -1.6852, -0.8324,  2.0878],\n",
       "         [ 0.2005,  0.3695,  1.4108,  0.2981, -1.1706,  0.2409],\n",
       "         [-1.2760, -1.0908, -2.5310, -0.4830,  0.6410,  2.0851],\n",
       "         [-0.4538,  0.5378, -1.7967, -0.0246,  0.9777,  1.4642],\n",
       "         [-0.8578, -1.0764,  0.1279, -0.1532, -1.2920,  1.4808],\n",
       "         [-2.2441, -0.8892, -0.8379, -1.0085, -0.9584,  0.1738],\n",
       "         [-1.4887,  2.6730, -0.6421,  1.1193, -0.2574,  0.6309],\n",
       "         [ 0.9444, -0.7061, -1.3993, -0.5861, -0.0726,  0.4402],\n",
       "         [-0.2597, -0.3482, -1.7895, -0.4785, -0.3232,  2.2306]],\n",
       "\n",
       "        [[ 1.0682,  1.4086,  0.3428, -0.1419, -0.8813,  0.3529],\n",
       "         [ 0.2848, -1.0590,  0.5895,  0.5058,  0.9810, -0.7540],\n",
       "         [ 0.8908,  0.0218, -0.1906, -1.6852, -0.8324,  2.0878],\n",
       "         [ 0.2005,  0.3695,  1.4108,  0.2981, -1.1706,  0.2409],\n",
       "         [-1.2760, -1.0908, -2.5310, -0.4830,  0.6410,  2.0851],\n",
       "         [-0.4538,  0.5378, -1.7967, -0.0246,  0.9777,  1.4642],\n",
       "         [-0.8578, -1.0764,  0.1279, -0.1532, -1.2920,  1.4808],\n",
       "         [ 0.6769, -0.9958,  0.7630, -1.0330, -0.3186, -0.6420],\n",
       "         [-0.6861, -2.8138,  0.3442,  0.2728, -0.6883,  1.1423],\n",
       "         [-0.5607,  0.0505,  1.0183,  0.7084, -0.9200,  0.6805]],\n",
       "\n",
       "        [[-1.1993,  1.3459, -0.4641,  0.1931,  0.1209, -1.9627],\n",
       "         [ 1.6182, -1.3341, -0.1548, -0.2425,  1.5754,  0.0754],\n",
       "         [-0.9670, -1.4378, -0.4966,  1.2665, -0.5846, -0.9133],\n",
       "         [ 0.3644, -1.2988, -0.0406,  0.6302, -0.0397,  1.1577],\n",
       "         [ 0.2005,  0.3695,  1.4108,  0.2981, -1.1706,  0.2409],\n",
       "         [-1.2760, -1.0908, -2.5310, -0.4830,  0.6410,  2.0851],\n",
       "         [-0.3558, -0.2793,  2.5561,  0.9402,  1.0843, -0.1397],\n",
       "         [-0.6861, -2.8138,  0.3442,  0.2728, -0.6883,  1.1423],\n",
       "         [ 1.7552, -0.7603,  0.7712, -0.5620,  0.3733, -1.1960],\n",
       "         [-0.8578, -1.0764,  0.1279, -0.1532, -1.2920,  1.4808]]],\n",
       "       grad_fn=<EmbeddingBackward>)"
      ]
     },
     "metadata": {},
     "execution_count": 19
    }
   ],
   "source": [
    "embedding(data)"
   ]
  },
  {
   "cell_type": "code",
   "execution_count": 99,
   "metadata": {},
   "outputs": [
    {
     "output_type": "execute_result",
     "data": {
      "text/plain": [
       "torch.Size([5, 10, 6])"
      ]
     },
     "metadata": {},
     "execution_count": 99
    }
   ],
   "source": [
    "embedding(data).shape # (batgch_size, seq_length, max_length, embedding_dim)"
   ]
  },
  {
   "cell_type": "code",
   "execution_count": 25,
   "metadata": {},
   "outputs": [
    {
     "output_type": "execute_result",
     "data": {
      "text/plain": [
       "(tensor([[[[1., 1., 1.],\n",
       "           [1., 1., 1.]],\n",
       " \n",
       "          [[1., 1., 1.],\n",
       "           [1., 1., 1.]],\n",
       " \n",
       "          [[1., 1., 1.],\n",
       "           [1., 1., 1.]],\n",
       " \n",
       "          [[1., 1., 1.],\n",
       "           [1., 1., 1.]]]]),\n",
       " tensor([[[[1., 1., 1.],\n",
       "           [1., 1., 1.]],\n",
       " \n",
       "          [[1., 1., 1.],\n",
       "           [1., 1., 1.]],\n",
       " \n",
       "          [[1., 1., 1.],\n",
       "           [1., 1., 1.]],\n",
       " \n",
       "          [[1., 1., 1.],\n",
       "           [1., 1., 1.]]]]))"
      ]
     },
     "metadata": {},
     "execution_count": 25
    }
   ],
   "source": [
    "batch_size = 1\n",
    "max_len = 4\n",
    "num_heads = 2\n",
    "d_k = 3\n",
    "q = torch.ones(batch_size, max_len, num_heads, d_k)\n",
    "k = torch.ones(batch_size, max_len, num_heads, d_k)\n",
    "q, k"
   ]
  }
 ]
}