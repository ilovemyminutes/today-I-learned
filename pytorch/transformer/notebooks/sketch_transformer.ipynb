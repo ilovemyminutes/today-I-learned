{
 "metadata": {
  "language_info": {
   "codemirror_mode": {
    "name": "ipython",
    "version": 3
   },
   "file_extension": ".py",
   "mimetype": "text/x-python",
   "name": "python",
   "nbconvert_exporter": "python",
   "pygments_lexer": "ipython3",
   "version": "3.6.9-final"
  },
  "orig_nbformat": 2,
  "kernelspec": {
   "name": "python3",
   "display_name": "Python 3.6.9 64-bit ('py36': conda)",
   "metadata": {
    "interpreter": {
     "hash": "e4583e3e051816b4ac89cf1b6baba6f81196736b754b6f0341f1424c68064e5b"
    }
   }
  }
 },
 "nbformat": 4,
 "nbformat_minor": 2,
 "cells": [
  {
   "cell_type": "code",
   "execution_count": 1,
   "metadata": {},
   "outputs": [],
   "source": [
    "import sys\n",
    "import math\n",
    "from tqdm import tqdm\n",
    "sys.path.insert(0, '../')\n",
    "\n",
    "import torch\n",
    "from torch import nn\n",
    "from torch.nn import functional as F\n",
    "\n",
    "from attention import MultiHeadAttention\n",
    "from encoder import Encoder\n",
    "from decoder import Decoder\n",
    "from positional_encoding import PositionalEncoder"
   ]
  },
  {
   "cell_type": "code",
   "execution_count": 115,
   "metadata": {},
   "outputs": [],
   "source": [
    "VOCAB_SIZE = 15\n",
    "D_MODEL = 6\n",
    "NUM_HEADS = 2\n",
    "MAX_LEN = 10\n",
    "BATCH_SIZE = 8"
   ]
  },
  {
   "cell_type": "code",
   "execution_count": 116,
   "metadata": {},
   "outputs": [
    {
     "output_type": "execute_result",
     "data": {
      "text/plain": [
       "(torch.Size([8, 10]), torch.Size([8, 10]))"
      ]
     },
     "metadata": {},
     "execution_count": 116
    }
   ],
   "source": [
    "sample_input_batch = torch.randint(1, VOCAB_SIZE-1, (BATCH_SIZE, MAX_LEN))\n",
    "sample_output_batch = torch.randint(1, VOCAB_SIZE-1, (BATCH_SIZE, MAX_LEN))\n",
    "sample_output_batch[:, -1] = VOCAB_SIZE-1\n",
    "sample_output_batch[:, 0] = 0\n",
    "\n",
    "sample_input_batch.size(), sample_output_batch.size()"
   ]
  },
  {
   "cell_type": "code",
   "execution_count": 117,
   "metadata": {},
   "outputs": [],
   "source": [
    "input_embeder = nn.Embedding(num_embeddings=VOCAB_SIZE, embedding_dim=D_MODEL)\n",
    "output_embeder = nn.Embedding(num_embeddings=VOCAB_SIZE, embedding_dim=D_MODEL)\n",
    "encoder = Encoder(d_model=D_MODEL, num_heads=NUM_HEADS, max_len=MAX_LEN)\n",
    "decoder = Decoder(d_model=D_MODEL, num_heads=NUM_HEADS)"
   ]
  },
  {
   "cell_type": "code",
   "execution_count": 118,
   "metadata": {},
   "outputs": [],
   "source": [
    "sample_input_embedded = input_embeder(sample_input_batch)\n",
    "sample_output_embedded = output_embeder(sample_output_batch)"
   ]
  },
  {
   "cell_type": "code",
   "execution_count": 119,
   "metadata": {},
   "outputs": [
    {
     "output_type": "execute_result",
     "data": {
      "text/plain": [
       "(torch.Size([8, 10, 6]), torch.Size([8, 10, 6]))"
      ]
     },
     "metadata": {},
     "execution_count": 119
    }
   ],
   "source": [
    "sample_input_embedded.size(), sample_output_embedded.size()"
   ]
  },
  {
   "cell_type": "code",
   "execution_count": 120,
   "metadata": {},
   "outputs": [
    {
     "output_type": "execute_result",
     "data": {
      "text/plain": [
       "torch.Size([8, 10, 6])"
      ]
     },
     "metadata": {},
     "execution_count": 120
    }
   ],
   "source": [
    "encoder_output = encoder(sample_input_embedded)\n",
    "encoder_output.size()"
   ]
  },
  {
   "cell_type": "code",
   "execution_count": 121,
   "metadata": {},
   "outputs": [
    {
     "output_type": "execute_result",
     "data": {
      "text/plain": [
       "torch.Size([8, 10, 6])"
      ]
     },
     "metadata": {},
     "execution_count": 121
    }
   ],
   "source": [
    "sample_input_embedded.size()"
   ]
  },
  {
   "cell_type": "code",
   "execution_count": 122,
   "metadata": {},
   "outputs": [
    {
     "output_type": "execute_result",
     "data": {
      "text/plain": [
       "torch.Size([8, 10, 6])"
      ]
     },
     "metadata": {},
     "execution_count": 122
    }
   ],
   "source": [
    "decoder_output = decoder(encoder_output, sample_output_embedded)\n",
    "decoder_output.size()"
   ]
  },
  {
   "cell_type": "code",
   "execution_count": 123,
   "metadata": {},
   "outputs": [],
   "source": [
    "linear = nn.Linear(in_features=D_MODEL, out_features=VOCAB_SIZE)"
   ]
  },
  {
   "cell_type": "code",
   "execution_count": 124,
   "metadata": {},
   "outputs": [
    {
     "output_type": "execute_result",
     "data": {
      "text/plain": [
       "torch.Size([8, 10])"
      ]
     },
     "metadata": {},
     "execution_count": 124
    }
   ],
   "source": [
    "sample_output_batch.size()"
   ]
  },
  {
   "cell_type": "code",
   "execution_count": 128,
   "metadata": {},
   "outputs": [],
   "source": [
    "linear_output = linear(decoder_output)"
   ]
  },
  {
   "cell_type": "code",
   "execution_count": 134,
   "metadata": {},
   "outputs": [
    {
     "output_type": "execute_result",
     "data": {
      "text/plain": [
       "torch.Size([10, 15])"
      ]
     },
     "metadata": {},
     "execution_count": 134
    }
   ],
   "source": [
    "linear_output[0].size() # 하나의 시퀀스, 각 단어를 15(vocab size)차원으로 맵핑 후 소프트맥스"
   ]
  },
  {
   "cell_type": "code",
   "execution_count": 142,
   "metadata": {},
   "outputs": [],
   "source": [
    "output = F.softmax(linear_output, dim=-1)"
   ]
  },
  {
   "cell_type": "code",
   "execution_count": 146,
   "metadata": {},
   "outputs": [
    {
     "output_type": "execute_result",
     "data": {
      "text/plain": [
       "tensor([[ 8,  8,  9,  8, 11, 11, 11,  8,  8,  8],\n",
       "        [ 8,  8,  8, 14,  9,  8, 11,  8, 11,  7],\n",
       "        [ 8,  8,  8,  7,  9,  3,  8,  8,  8,  8],\n",
       "        [ 8,  8,  8,  8, 11, 11, 11, 11, 11,  7],\n",
       "        [ 7, 11,  9,  7, 11, 11,  8,  8, 11,  8],\n",
       "        [ 8, 10, 13,  9, 10,  8, 11, 11, 11,  7],\n",
       "        [11,  4,  3,  9,  8,  8,  8,  9,  8,  8],\n",
       "        [ 9, 10,  9, 10,  8,  8, 11,  8, 11,  8]])"
      ]
     },
     "metadata": {},
     "execution_count": 146
    }
   ],
   "source": [
    "torch.argmax(output, dim=-1)"
   ]
  }
 ]
}