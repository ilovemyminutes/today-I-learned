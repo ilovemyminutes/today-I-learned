{
 "metadata": {
  "language_info": {
   "codemirror_mode": {
    "name": "ipython",
    "version": 3
   },
   "file_extension": ".py",
   "mimetype": "text/x-python",
   "name": "python",
   "nbconvert_exporter": "python",
   "pygments_lexer": "ipython3",
   "version": "3.7.10-final"
  },
  "orig_nbformat": 2,
  "kernelspec": {
   "name": "python3",
   "display_name": "Python 3",
   "language": "python"
  }
 },
 "nbformat": 4,
 "nbformat_minor": 2,
 "cells": [
  {
   "cell_type": "code",
   "execution_count": 1,
   "metadata": {},
   "outputs": [
    {
     "output_type": "stream",
     "name": "stdout",
     "text": [
      "Device: cuda:0\n"
     ]
    }
   ],
   "source": [
    "import sys\n",
    "import math\n",
    "from tqdm import tqdm\n",
    "sys.path.insert(0, '../')\n",
    "\n",
    "import torch\n",
    "from torch import nn, optim\n",
    "from torch.nn import functional as F\n",
    "from torchsummary import summary\n",
    "\n",
    "from attention import MultiHeadAttention\n",
    "from encoder import Encoder\n",
    "from decoder import Decoder\n",
    "from positional_encoding import PositionalEncoder\n",
    "from transformer import Transformer\n",
    "\n",
    "device = torch.device('cuda:0' if torch.cuda.is_available() else 'cpu')\n",
    "print(f'Device: {device}')"
   ]
  },
  {
   "cell_type": "code",
   "execution_count": 2,
   "metadata": {},
   "outputs": [],
   "source": [
    "VOCAB_SIZE = 15\n",
    "D_MODEL = 6\n",
    "NUM_HEADS = 2\n",
    "MAX_LEN = 8\n",
    "BATCH_SIZE = 4\n",
    "LR = 1e-3\n",
    "EPOCHS = 10000"
   ]
  },
  {
   "cell_type": "code",
   "execution_count": 3,
   "metadata": {},
   "outputs": [
    {
     "output_type": "execute_result",
     "data": {
      "text/plain": [
       "(torch.Size([4, 8]), torch.Size([4, 8]))"
      ]
     },
     "metadata": {},
     "execution_count": 3
    }
   ],
   "source": [
    "sample_input_batch = torch.randint(1, VOCAB_SIZE-1, (BATCH_SIZE, MAX_LEN))\n",
    "sample_output_batch = torch.randint(1, VOCAB_SIZE-1, (BATCH_SIZE, MAX_LEN))\n",
    "sample_output_batch[:, -1] = VOCAB_SIZE-1\n",
    "sample_output_batch[:, 0] = 0\n",
    "\n",
    "sample_input_batch.size(), sample_output_batch.size()"
   ]
  },
  {
   "cell_type": "code",
   "execution_count": 4,
   "metadata": {},
   "outputs": [],
   "source": [
    "model = Transformer(vocab_size=VOCAB_SIZE, max_len=MAX_LEN, d_model=D_MODEL, num_heads=NUM_HEADS).cpu()"
   ]
  },
  {
   "cell_type": "code",
   "execution_count": 5,
   "metadata": {},
   "outputs": [],
   "source": [
    "criterion = nn.CrossEntropyLoss()\n",
    "optimizer = optim.Adam(model.parameters(), lr=LR)"
   ]
  },
  {
   "cell_type": "code",
   "execution_count": 6,
   "metadata": {},
   "outputs": [],
   "source": [
    "sample_input_batch = sample_input_batch.long().cpu()\n",
    "sample_output_batch = sample_output_batch.long().cpu()"
   ]
  },
  {
   "cell_type": "code",
   "execution_count": 7,
   "metadata": {},
   "outputs": [
    {
     "output_type": "stream",
     "name": "stdout",
     "text": [
      "=====Run My Lovely Transformer🤩=====\n",
      "Epoch: 0, Loss: 2888.4296875\n",
      ">>> Predicted Batch\n",
      "tensor([[14, 11, 11, 11, 11, 11, 11, 11],\n",
      "        [10, 12, 11, 11, 11, 11, 11, 11],\n",
      "        [10, 12, 11, 11, 11, 11, 11, 11],\n",
      "        [14, 14, 11, 11, 11, 11, 11, 11]])\n",
      ">>> Ground Truth Batch\n",
      "tensor([[ 0,  4,  5, 10,  1, 10,  3, 14],\n",
      "        [ 0,  2, 10,  1,  5,  9,  9, 14],\n",
      "        [ 0,  5,  5, 10,  3,  7,  5, 14],\n",
      "        [ 0, 11, 11, 12,  3,  4,  7, 14]])\n",
      "\n",
      "Epoch: 2500, Loss: 3.4121768474578857\n",
      ">>> Predicted Batch\n",
      "tensor([[ 0,  4,  5, 10,  1,  5, 14, 14],\n",
      "        [ 0,  2, 10,  1,  5,  5, 14, 14],\n",
      "        [ 0,  5,  5, 10,  5,  5, 14, 14],\n",
      "        [ 0, 11, 11, 12,  5,  5, 14, 14]])\n",
      ">>> Ground Truth Batch\n",
      "tensor([[ 0,  4,  5, 10,  1, 10,  3, 14],\n",
      "        [ 0,  2, 10,  1,  5,  9,  9, 14],\n",
      "        [ 0,  5,  5, 10,  3,  7,  5, 14],\n",
      "        [ 0, 11, 11, 12,  3,  4,  7, 14]])\n",
      "\n",
      "Epoch: 5000, Loss: 2.769289255142212\n",
      ">>> Predicted Batch\n",
      "tensor([[ 0,  4,  5, 10,  1, 10,  9,  9],\n",
      "        [ 0,  2, 10,  1,  5,  9,  9,  9],\n",
      "        [ 0,  5,  5, 10,  3,  3,  9,  9],\n",
      "        [ 0, 11, 11, 12,  3,  4,  9,  9]])\n",
      ">>> Ground Truth Batch\n",
      "tensor([[ 0,  4,  5, 10,  1, 10,  3, 14],\n",
      "        [ 0,  2, 10,  1,  5,  9,  9, 14],\n",
      "        [ 0,  5,  5, 10,  3,  7,  5, 14],\n",
      "        [ 0, 11, 11, 12,  3,  4,  7, 14]])\n",
      "\n",
      "Epoch: 7500, Loss: 0.1788226217031479\n",
      ">>> Predicted Batch\n",
      "tensor([[ 0,  4,  5, 10,  1, 10,  3, 14],\n",
      "        [ 0,  2, 10,  1,  5,  9,  9, 14],\n",
      "        [ 0,  5,  5, 10,  3,  5,  5, 14],\n",
      "        [ 0, 11, 11, 12,  3,  4,  7, 14]])\n",
      ">>> Ground Truth Batch\n",
      "tensor([[ 0,  4,  5, 10,  1, 10,  3, 14],\n",
      "        [ 0,  2, 10,  1,  5,  9,  9, 14],\n",
      "        [ 0,  5,  5, 10,  3,  7,  5, 14],\n",
      "        [ 0, 11, 11, 12,  3,  4,  7, 14]])\n",
      "\n",
      "Epoch: 9999, Loss: 0.18041104078292847\n",
      ">>> Predicted Batch\n",
      "tensor([[ 0,  4,  5, 10,  1, 10,  3, 14],\n",
      "        [ 0,  2, 10,  1,  5,  9,  9, 14],\n",
      "        [ 0,  5,  5, 10,  3,  5,  5, 14],\n",
      "        [ 0, 11, 11, 12,  3,  4,  3, 14]])\n",
      ">>> Ground Truth Batch\n",
      "tensor([[ 0,  4,  5, 10,  1, 10,  3, 14],\n",
      "        [ 0,  2, 10,  1,  5,  9,  9, 14],\n",
      "        [ 0,  5,  5, 10,  3,  7,  5, 14],\n",
      "        [ 0, 11, 11, 12,  3,  4,  7, 14]])\n",
      "\n"
     ]
    }
   ],
   "source": [
    "print('=====Run My Lovely Transformer🤩=====')\n",
    "model.train()\n",
    "for epoch in range(EPOCHS):\n",
    "    optimizer.zero_grad()\n",
    "    pred_output_batch = model(sample_input_batch, sample_output_batch)\n",
    "    loss_val = criterion(pred_output_batch.transpose(-1,-2), sample_output_batch)\n",
    "    loss_val.backward()\n",
    "    optimizer.step()\n",
    "    if epoch % 2500 == 0 or epoch == EPOCHS-1:\n",
    "        print(f'Epoch: {epoch}, Loss: {loss_val}')\n",
    "        print('>>> Predicted Batch')        \n",
    "        print(torch.argmax(pred_output_batch, dim=-1))\n",
    "\n",
    "        print('>>> Ground Truth Batch')\n",
    "        print(sample_output_batch)\n",
    "        print()"
   ]
  },
  {
   "cell_type": "code",
   "execution_count": 7,
   "metadata": {},
   "outputs": [],
   "source": []
  },
  {
   "cell_type": "code",
   "execution_count": 12,
   "metadata": {},
   "outputs": [
    {
     "output_type": "execute_result",
     "data": {
      "text/plain": [
       "torch.Size([3, 4, 6])"
      ]
     },
     "metadata": {},
     "execution_count": 12
    }
   ],
   "source": [
    "pred_output_batch.size()"
   ]
  },
  {
   "cell_type": "code",
   "execution_count": 14,
   "metadata": {},
   "outputs": [
    {
     "output_type": "execute_result",
     "data": {
      "text/plain": [
       "torch.Size([3, 4])"
      ]
     },
     "metadata": {},
     "execution_count": 14
    }
   ],
   "source": [
    "sample_output_batch.size()"
   ]
  },
  {
   "cell_type": "code",
   "execution_count": 17,
   "metadata": {},
   "outputs": [],
   "source": [
    "loss_val = loss(pred_output_batch.transpose(-1, -2), sample_output_batch)"
   ]
  },
  {
   "cell_type": "code",
   "execution_count": 19,
   "metadata": {},
   "outputs": [],
   "source": [
    "optimizer.zero_grad()\n",
    "loss_val.backward()"
   ]
  },
  {
   "cell_type": "code",
   "execution_count": 20,
   "metadata": {},
   "outputs": [],
   "source": [
    "optimizer.step()"
   ]
  },
  {
   "cell_type": "code",
   "execution_count": 117,
   "metadata": {},
   "outputs": [],
   "source": [
    "input_embeder = nn.Embedding(num_embeddings=VOCAB_SIZE, embedding_dim=D_MODEL)\n",
    "output_embeder = nn.Embedding(num_embeddings=VOCAB_SIZE, embedding_dim=D_MODEL)\n",
    "encoder = Encoder(d_model=D_MODEL, num_heads=NUM_HEADS, max_len=MAX_LEN)\n",
    "decoder = Decoder(d_model=D_MODEL, num_heads=NUM_HEADS)"
   ]
  },
  {
   "cell_type": "code",
   "execution_count": 118,
   "metadata": {},
   "outputs": [],
   "source": [
    "sample_input_embedded = input_embeder(sample_input_batch)\n",
    "sample_output_embedded = output_embeder(sample_output_batch)"
   ]
  },
  {
   "cell_type": "code",
   "execution_count": 119,
   "metadata": {},
   "outputs": [
    {
     "output_type": "execute_result",
     "data": {
      "text/plain": [
       "(torch.Size([8, 10, 6]), torch.Size([8, 10, 6]))"
      ]
     },
     "metadata": {},
     "execution_count": 119
    }
   ],
   "source": [
    "sample_input_embedded.size(), sample_output_embedded.size()"
   ]
  },
  {
   "cell_type": "code",
   "execution_count": 120,
   "metadata": {},
   "outputs": [
    {
     "output_type": "execute_result",
     "data": {
      "text/plain": [
       "torch.Size([8, 10, 6])"
      ]
     },
     "metadata": {},
     "execution_count": 120
    }
   ],
   "source": [
    "encoder_output = encoder(sample_input_embedded)\n",
    "encoder_output.size()"
   ]
  },
  {
   "cell_type": "code",
   "execution_count": 121,
   "metadata": {},
   "outputs": [
    {
     "output_type": "execute_result",
     "data": {
      "text/plain": [
       "torch.Size([8, 10, 6])"
      ]
     },
     "metadata": {},
     "execution_count": 121
    }
   ],
   "source": [
    "sample_input_embedded.size()"
   ]
  },
  {
   "cell_type": "code",
   "execution_count": 122,
   "metadata": {},
   "outputs": [
    {
     "output_type": "execute_result",
     "data": {
      "text/plain": [
       "torch.Size([8, 10, 6])"
      ]
     },
     "metadata": {},
     "execution_count": 122
    }
   ],
   "source": [
    "decoder_output = decoder(encoder_output, sample_output_embedded)\n",
    "decoder_output.size()"
   ]
  },
  {
   "cell_type": "code",
   "execution_count": 123,
   "metadata": {},
   "outputs": [],
   "source": [
    "linear = nn.Linear(in_features=D_MODEL, out_features=VOCAB_SIZE)"
   ]
  },
  {
   "cell_type": "code",
   "execution_count": 124,
   "metadata": {},
   "outputs": [
    {
     "output_type": "execute_result",
     "data": {
      "text/plain": [
       "torch.Size([8, 10])"
      ]
     },
     "metadata": {},
     "execution_count": 124
    }
   ],
   "source": [
    "sample_output_batch.size()"
   ]
  },
  {
   "cell_type": "code",
   "execution_count": 128,
   "metadata": {},
   "outputs": [],
   "source": [
    "linear_output = linear(decoder_output)"
   ]
  },
  {
   "cell_type": "code",
   "execution_count": 134,
   "metadata": {},
   "outputs": [
    {
     "output_type": "execute_result",
     "data": {
      "text/plain": [
       "torch.Size([10, 15])"
      ]
     },
     "metadata": {},
     "execution_count": 134
    }
   ],
   "source": [
    "linear_output[0].size() # 하나의 시퀀스, 각 단어를 15(vocab size)차원으로 맵핑 후 소프트맥스"
   ]
  },
  {
   "cell_type": "code",
   "execution_count": 142,
   "metadata": {},
   "outputs": [],
   "source": [
    "output = F.softmax(linear_output, dim=-1)"
   ]
  },
  {
   "cell_type": "code",
   "execution_count": 146,
   "metadata": {},
   "outputs": [
    {
     "output_type": "execute_result",
     "data": {
      "text/plain": [
       "tensor([[ 8,  8,  9,  8, 11, 11, 11,  8,  8,  8],\n",
       "        [ 8,  8,  8, 14,  9,  8, 11,  8, 11,  7],\n",
       "        [ 8,  8,  8,  7,  9,  3,  8,  8,  8,  8],\n",
       "        [ 8,  8,  8,  8, 11, 11, 11, 11, 11,  7],\n",
       "        [ 7, 11,  9,  7, 11, 11,  8,  8, 11,  8],\n",
       "        [ 8, 10, 13,  9, 10,  8, 11, 11, 11,  7],\n",
       "        [11,  4,  3,  9,  8,  8,  8,  9,  8,  8],\n",
       "        [ 9, 10,  9, 10,  8,  8, 11,  8, 11,  8]])"
      ]
     },
     "metadata": {},
     "execution_count": 146
    }
   ],
   "source": [
    "torch.argmax(output, dim=-1)"
   ]
  }
 ]
}