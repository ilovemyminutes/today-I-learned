{
 "metadata": {
  "language_info": {
   "codemirror_mode": {
    "name": "ipython",
    "version": 3
   },
   "file_extension": ".py",
   "mimetype": "text/x-python",
   "name": "python",
   "nbconvert_exporter": "python",
   "pygments_lexer": "ipython3",
   "version": "3.6.9-final"
  },
  "orig_nbformat": 2,
  "kernelspec": {
   "name": "python3",
   "display_name": "Python 3.6.9 64-bit ('py36': conda)",
   "metadata": {
    "interpreter": {
     "hash": "e4583e3e051816b4ac89cf1b6baba6f81196736b754b6f0341f1424c68064e5b"
    }
   }
  }
 },
 "nbformat": 4,
 "nbformat_minor": 2,
 "cells": [
  {
   "cell_type": "code",
   "execution_count": 1,
   "metadata": {},
   "outputs": [],
   "source": [
    "import sys\n",
    "import math\n",
    "from tqdm import tqdm\n",
    "sys.path.insert(0, '../')\n",
    "\n",
    "import torch\n",
    "from torch import nn\n",
    "from torch.nn import functional as F\n",
    "\n",
    "from attention import MultiHeadAttention\n",
    "from encoder import Encoder\n",
    "from positional_encoding import PositionalEncoder"
   ]
  },
  {
   "cell_type": "code",
   "execution_count": 24,
   "metadata": {},
   "outputs": [],
   "source": [
    "D_MODEL = 6\n",
    "NUM_HEADS = 2\n",
    "MAX_LEN = 4\n",
    "BATCH_SIZE = 5\n",
    "encoder = Encoder(d_model=D_MODEL, num_heads=NUM_HEADS, max_len=MAX_LEN)\n",
    "positional_encoder = PositionalEncoder(D_MODEL)\n",
    "\n",
    "sample_input_batch = torch.rand(BATCH_SIZE, MAX_LEN, D_MODEL)\n",
    "sample_output_batch = torch.rand(BATCH_SIZE, MAX_LEN, D_MODEL)\n",
    "sample_output_batch += positional_encoder(max_len=MAX_LEN)"
   ]
  },
  {
   "cell_type": "code",
   "execution_count": 45,
   "metadata": {},
   "outputs": [
    {
     "output_type": "execute_result",
     "data": {
      "text/plain": [
       "tensor([[[ 1.2165,  1.9930,  1.3888,  1.1648,  1.9554,  1.4666],\n",
       "         [ 1.4091,  1.4843,  1.8777,  1.3838,  1.5696,  1.2393],\n",
       "         [22.1852, 21.7457, 22.4729, 22.3005, 22.4771, 22.4581],\n",
       "         [21.5483, 21.6810, 22.0316, 22.0502, 22.4452, 22.1490]],\n",
       "\n",
       "        [[ 1.9531,  1.8300,  1.2124,  1.6741,  1.8799,  1.9656],\n",
       "         [ 1.3495,  1.1383,  1.8569,  1.6820,  1.2557,  1.2753],\n",
       "         [21.5976, 22.5078, 21.5811, 21.9865, 22.0197, 22.1467],\n",
       "         [22.0323, 22.2050, 21.8831, 22.2247, 21.7674, 22.4861]],\n",
       "\n",
       "        [[ 1.7016,  1.6552,  1.8861,  1.0130,  1.6388,  1.8213],\n",
       "         [ 1.8074,  1.0207,  1.7864,  1.8260,  1.4734,  1.9112],\n",
       "         [22.3991, 21.6622, 22.5031, 21.8631, 22.0307, 22.4234],\n",
       "         [21.8784, 21.7234, 22.2831, 21.5783, 21.6102, 21.7331]],\n",
       "\n",
       "        [[ 1.8729,  1.1500,  1.7911,  1.7872,  1.0160,  1.7909],\n",
       "         [ 1.9863,  1.3134,  1.2696,  1.9212,  1.7570,  1.1099],\n",
       "         [21.7803, 22.4429, 22.2929, 22.3068, 21.9175, 22.1376],\n",
       "         [22.0230, 21.7042, 22.3484, 22.0598, 21.7107, 22.0833]],\n",
       "\n",
       "        [[ 1.7982,  1.9615,  1.0671,  1.5182,  1.5219,  1.5862],\n",
       "         [ 1.5907,  1.7820,  1.4373,  1.1123,  1.7218,  1.5448],\n",
       "         [22.0176, 22.2477, 21.8923, 22.4431, 22.1172, 21.8931],\n",
       "         [21.9288, 21.7579, 22.1076, 21.6067, 22.4659, 22.4161]]])"
      ]
     },
     "metadata": {},
     "execution_count": 45
    }
   ],
   "source": [
    "sample_output_batch"
   ]
  },
  {
   "cell_type": "code",
   "execution_count": 50,
   "metadata": {},
   "outputs": [
    {
     "output_type": "execute_result",
     "data": {
      "text/plain": [
       "tensor([21.5483, 21.6810, 22.0316, 22.0502, 22.4452, 22.1490])"
      ]
     },
     "metadata": {},
     "execution_count": 50
    }
   ],
   "source": [
    "for batch_idx in range(BATCH_SIZE):\n",
    "    for token_idx in range(MAX_LEN):\n",
    "        sample_output_batch[0, 3, :]"
   ]
  },
  {
   "cell_type": "code",
   "execution_count": 25,
   "metadata": {},
   "outputs": [],
   "source": [
    "w_query = nn.Linear(in_features=D_MODEL, out_features=D_MODEL)\n",
    "w_key = nn.Linear(in_features=D_MODEL, out_features=D_MODEL)\n",
    "w_value = nn.Linear(in_features=D_MODEL, out_features=D_MODEL)"
   ]
  },
  {
   "cell_type": "code",
   "execution_count": 26,
   "metadata": {},
   "outputs": [
    {
     "output_type": "execute_result",
     "data": {
      "text/plain": [
       "(torch.Size([5, 4, 6]), torch.Size([5, 4, 6]))"
      ]
     },
     "metadata": {},
     "execution_count": 26
    }
   ],
   "source": [
    "sample_output_batch.size(), sample_input_batch.size()"
   ]
  },
  {
   "cell_type": "code",
   "execution_count": 27,
   "metadata": {},
   "outputs": [],
   "source": [
    "query_output = w_query(sample_output_batch)\n",
    "key_output = w_key(sample_output_batch)\n",
    "value_output = w_value(sample_output_batch)"
   ]
  },
  {
   "cell_type": "code",
   "execution_count": 28,
   "metadata": {},
   "outputs": [],
   "source": [
    "masked_attn_layer = MultiHeadAttention(d_model=D_MODEL, num_heads=NUM_HEADS, mask=True)"
   ]
  },
  {
   "cell_type": "code",
   "execution_count": 40,
   "metadata": {},
   "outputs": [
    {
     "output_type": "execute_result",
     "data": {
      "text/plain": [
       "torch.Size([5, 4, 6])"
      ]
     },
     "metadata": {},
     "execution_count": 40
    }
   ],
   "source": [
    "masked_output = masked_attn_layer(query_output, key_output, value_output)\n",
    "masked_output.size()"
   ]
  },
  {
   "cell_type": "code",
   "execution_count": null,
   "metadata": {},
   "outputs": [],
   "source": []
  },
  {
   "cell_type": "code",
   "execution_count": 44,
   "metadata": {},
   "outputs": [
    {
     "output_type": "stream",
     "name": "stdout",
     "text": [
      "torch.Size([4, 6])\ntorch.Size([4, 6])\ntorch.Size([4, 6])\ntorch.Size([4, 6])\ntorch.Size([4, 6])\n"
     ]
    }
   ],
   "source": [
    "max_len, d_model = masked_output.shape[-2:]\n",
    "for tensor in masked_output:\n",
    "    # tensor = tensor.contiguous().view(1, max_len, d_model)\n",
    "    print(tensor.size())"
   ]
  }
 ]
}