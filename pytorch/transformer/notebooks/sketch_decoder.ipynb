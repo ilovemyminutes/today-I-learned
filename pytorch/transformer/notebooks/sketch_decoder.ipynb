{
 "metadata": {
  "language_info": {
   "codemirror_mode": {
    "name": "ipython",
    "version": 3
   },
   "file_extension": ".py",
   "mimetype": "text/x-python",
   "name": "python",
   "nbconvert_exporter": "python",
   "pygments_lexer": "ipython3",
   "version": "3.6.9-final"
  },
  "orig_nbformat": 2,
  "kernelspec": {
   "name": "python3",
   "display_name": "Python 3.6.9 64-bit ('py36': conda)",
   "metadata": {
    "interpreter": {
     "hash": "e4583e3e051816b4ac89cf1b6baba6f81196736b754b6f0341f1424c68064e5b"
    }
   }
  }
 },
 "nbformat": 4,
 "nbformat_minor": 2,
 "cells": [
  {
   "cell_type": "code",
   "execution_count": 1,
   "metadata": {},
   "outputs": [],
   "source": [
    "import sys\n",
    "import math\n",
    "from tqdm import tqdm\n",
    "sys.path.insert(0, '../')\n",
    "\n",
    "import torch\n",
    "from torch import nn\n",
    "from torch.nn import functional as F\n",
    "\n",
    "from attention import MultiHeadAttention\n",
    "from encoder import Encoder\n",
    "from decoder import Decoder\n",
    "from positional_encoding import PositionalEncoder"
   ]
  },
  {
   "cell_type": "code",
   "execution_count": 7,
   "metadata": {},
   "outputs": [
    {
     "output_type": "execute_result",
     "data": {
      "text/plain": [
       "(torch.Size([5, 4, 6]), torch.Size([5, 4, 6]))"
      ]
     },
     "metadata": {},
     "execution_count": 7
    }
   ],
   "source": [
    "D_MODEL = 6\n",
    "NUM_HEADS = 2\n",
    "MAX_LEN = 4\n",
    "BATCH_SIZE = 5\n",
    "encoder = Encoder(d_model=D_MODEL, num_heads=NUM_HEADS, max_len=MAX_LEN)\n",
    "decoder = Decoder(d_model=D_MODEL, num_heads=NUM_HEADS)\n",
    "positional_encoder = PositionalEncoder(D_MODEL)\n",
    "\n",
    "sample_input_batch = torch.rand(BATCH_SIZE, MAX_LEN, D_MODEL)\n",
    "sample_output_batch = torch.rand(BATCH_SIZE, MAX_LEN, D_MODEL)\n",
    "\n",
    "sample_input_batch += positional_encoder(max_len=MAX_LEN)\n",
    "sample_output_batch += positional_encoder(max_len=MAX_LEN)\n",
    "\n",
    "sample_input_batch.size(), sample_output_batch.size()"
   ]
  },
  {
   "cell_type": "code",
   "execution_count": 5,
   "metadata": {},
   "outputs": [],
   "source": [
    "encoder_hidden_state = encoder(sample_input_batch)"
   ]
  },
  {
   "cell_type": "code",
   "execution_count": 8,
   "metadata": {},
   "outputs": [
    {
     "output_type": "execute_result",
     "data": {
      "text/plain": [
       "torch.Size([5, 4, 6])"
      ]
     },
     "metadata": {},
     "execution_count": 8
    }
   ],
   "source": [
    "decoder(encoder_hidden_state, sample_output_batch).size()"
   ]
  },
  {
   "cell_type": "code",
   "execution_count": 54,
   "metadata": {},
   "outputs": [
    {
     "output_type": "execute_result",
     "data": {
      "text/plain": [
       "tensor([21.9288, 21.7579, 22.1076, 21.6067, 22.4659, 22.4161])"
      ]
     },
     "metadata": {},
     "execution_count": 54
    }
   ],
   "source": [
    "token"
   ]
  },
  {
   "cell_type": "code",
   "execution_count": 25,
   "metadata": {},
   "outputs": [],
   "source": [
    "w_query = nn.Linear(in_features=D_MODEL, out_features=D_MODEL)\n",
    "w_key = nn.Linear(in_features=D_MODEL, out_features=D_MODEL)\n",
    "w_value = nn.Linear(in_features=D_MODEL, out_features=D_MODEL)"
   ]
  },
  {
   "cell_type": "code",
   "execution_count": 26,
   "metadata": {},
   "outputs": [
    {
     "output_type": "execute_result",
     "data": {
      "text/plain": [
       "(torch.Size([5, 4, 6]), torch.Size([5, 4, 6]))"
      ]
     },
     "metadata": {},
     "execution_count": 26
    }
   ],
   "source": [
    "sample_output_batch.size(), sample_input_batch.size()"
   ]
  },
  {
   "cell_type": "code",
   "execution_count": 27,
   "metadata": {},
   "outputs": [],
   "source": [
    "query_output = w_query(sample_output_batch)\n",
    "key_output = w_key(sample_output_batch)\n",
    "value_output = w_value(sample_output_batch)"
   ]
  },
  {
   "cell_type": "code",
   "execution_count": 28,
   "metadata": {},
   "outputs": [],
   "source": [
    "masked_attn_layer = MultiHeadAttention(d_model=D_MODEL, num_heads=NUM_HEADS, mask=True)"
   ]
  },
  {
   "cell_type": "code",
   "execution_count": 40,
   "metadata": {},
   "outputs": [
    {
     "output_type": "execute_result",
     "data": {
      "text/plain": [
       "torch.Size([5, 4, 6])"
      ]
     },
     "metadata": {},
     "execution_count": 40
    }
   ],
   "source": [
    "masked_output = masked_attn_layer(query_output, key_output, value_output)\n",
    "masked_output.size()"
   ]
  },
  {
   "cell_type": "code",
   "execution_count": 2,
   "metadata": {},
   "outputs": [],
   "source": [
    "def foo(x, y, z):\n",
    "    print(x, y, z)"
   ]
  },
  {
   "cell_type": "code",
   "execution_count": 4,
   "metadata": {},
   "outputs": [],
   "source": [
    "temp = (1,2,3)"
   ]
  },
  {
   "cell_type": "code",
   "execution_count": 5,
   "metadata": {},
   "outputs": [
    {
     "output_type": "stream",
     "name": "stdout",
     "text": [
      "1 2 3\n"
     ]
    }
   ],
   "source": [
    "foo(*temp)"
   ]
  },
  {
   "cell_type": "code",
   "execution_count": 44,
   "metadata": {},
   "outputs": [
    {
     "output_type": "stream",
     "name": "stdout",
     "text": [
      "torch.Size([4, 6])\ntorch.Size([4, 6])\ntorch.Size([4, 6])\ntorch.Size([4, 6])\ntorch.Size([4, 6])\n"
     ]
    }
   ],
   "source": [
    "max_len, d_model = masked_output.shape[-2:]\n",
    "for tensor in masked_output:\n",
    "    # tensor = tensor.contiguous().view(1, max_len, d_model)\n",
    "    print(tensor.size())"
   ]
  }
 ]
}